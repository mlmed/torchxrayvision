{
 "cells": [
  {
   "cell_type": "code",
   "execution_count": null,
   "metadata": {
    "colab": {
     "base_uri": "https://localhost:8080/"
    },
    "id": "7-SIJe5VM6sD",
    "outputId": "f233f548-73f6-4fc2-c36a-2fd5fd3564e3"
   },
   "outputs": [],
   "source": [
    "! pip install torchxrayvision"
   ]
  },
  {
   "cell_type": "code",
   "execution_count": null,
   "metadata": {
    "id": "8JXRBsBmNkox"
   },
   "outputs": [],
   "source": [
    "import os,sys\n",
    "sys.path.insert(0,\"..\")\n",
    "from glob import glob\n",
    "import matplotlib.pyplot as plt\n",
    "import numpy as np\n",
    "import torch\n",
    "import torchvision\n",
    "import sys\n",
    "import torch.nn.functional as F\n",
    "import tqdm\n",
    "\n",
    "import torchxrayvision as xrv"
   ]
  },
  {
   "cell_type": "code",
   "execution_count": null,
   "metadata": {
    "colab": {
     "base_uri": "https://localhost:8080/"
    },
    "id": "yozg_1UtNrDo",
    "outputId": "b1fa35d0-dcf3-4e32-b987-b1cbf478b5b4"
   },
   "outputs": [],
   "source": [
    "## NEED TO SPECIFY YOUR PATH TO IMAGES HERE:\n",
    "IMG_DIR_PATH=\"/content/capstone/images-224\"\n",
    "\n",
    "d_nih = xrv.datasets.NIH_Dataset(imgpath=IMG_DIR_PATH, unique_patients=False)\n",
    "xrv.datasets.relabel_dataset(xrv.datasets.default_pathologies, d_nih)"
   ]
  },
  {
   "cell_type": "code",
   "execution_count": null,
   "metadata": {
    "colab": {
     "base_uri": "https://localhost:8080/",
     "height": 269
    },
    "id": "cGIW_6gINvbH",
    "outputId": "7758afb6-67da-4080-e663-c78925a6de73"
   },
   "outputs": [],
   "source": [
    "sample = d_nih[56]\n",
    "plt.imshow(sample[\"img\"][0], cmap=\"Greys_r\");"
   ]
  },
  {
   "cell_type": "code",
   "execution_count": null,
   "metadata": {
    "colab": {
     "base_uri": "https://localhost:8080/"
    },
    "id": "qWti7YNgN1SW",
    "outputId": "5d16e8c3-10bc-453c-ea8c-52e57f1adcb1"
   },
   "outputs": [],
   "source": [
    "model = xrv.models.DenseNet(weights=\"all\",apply_sigmoid=False)\n",
    "with torch.no_grad():\n",
    "    out = model(torch.from_numpy(sample[\"img\"]).unsqueeze(0)).cpu()\n",
    "    \n",
    "dict(zip(model.pathologies,zip(out[0].detach().numpy(), sample[\"lab\"])))"
   ]
  },
  {
   "cell_type": "code",
   "execution_count": null,
   "metadata": {
    "colab": {
     "base_uri": "https://localhost:8080/"
    },
    "id": "4otNFB6VNyki",
    "outputId": "6c3d2a1a-8781-4344-dcea-241714becf71"
   },
   "outputs": [],
   "source": [
    "dict(zip(model.pathologies,xrv.datasets.default_pathologies))"
   ]
  },
  {
   "cell_type": "code",
   "execution_count": null,
   "metadata": {
    "colab": {
     "base_uri": "https://localhost:8080/"
    },
    "id": "hYiNHmCbN493",
    "outputId": "bf83e0dd-46e5-4df3-a68f-1f91654c585a"
   },
   "outputs": [],
   "source": [
    "model = xrv.models.DenseNet(weights=\"densenet121-res224-nih\",apply_sigmoid=False)\n",
    "with torch.no_grad():\n",
    "    out = model(torch.from_numpy(sample[\"img\"]).unsqueeze(0)).cpu()\n",
    "    \n",
    "dict(zip(model.pathologies,zip(out[0].detach().numpy(), sample[\"lab\"])))"
   ]
  },
  {
   "cell_type": "code",
   "execution_count": null,
   "metadata": {
    "colab": {
     "base_uri": "https://localhost:8080/"
    },
    "id": "IZWnnzzlN9VP",
    "outputId": "a737ae1c-8886-4268-87d7-60d2eb7e481c"
   },
   "outputs": [],
   "source": [
    "outs = []\n",
    "labs = []\n",
    "nih_ind = np.random.randint(0,len(d_nih),500)\n",
    "with open('indices.txt', 'w+') as f:\n",
    "    f.write('\\n'.join(map(str, nih_ind)))\n",
    "\n",
    "with torch.no_grad():\n",
    "    for i in tqdm.tqdm(nih_ind):\n",
    "        sample = d_nih[i]\n",
    "        labs.append(sample[\"lab\"])\n",
    "        out = model(torch.from_numpy(sample[\"img\"]).unsqueeze(0)).cpu()\n",
    "        outs.append(out.detach().numpy()[0])\n"
   ]
  },
  {
   "cell_type": "code",
   "execution_count": null,
   "metadata": {
    "colab": {
     "base_uri": "https://localhost:8080/",
     "height": 1000
    },
    "id": "nIXUha9FN_pD",
    "outputId": "94de97bb-b05b-4e91-f064-b36944e55440",
    "scrolled": false
   },
   "outputs": [],
   "source": [
    "from sklearn.metrics import (\n",
    "    ConfusionMatrixDisplay, RocCurveDisplay, precision_score, recall_score,\n",
    "    accuracy_score, f1_score, roc_auc_score, average_precision_score\n",
    ")\n",
    "import pandas as pd\n",
    "\n",
    "fig, ax = plt.subplots(14, 2, figsize=(10,50))\n",
    "only_one_class_obs = []\n",
    "metrics_df = pd.DataFrame(columns=['Feature', 'Accuracy', 'Precision', 'Avg_Prec', 'Recall', 'F1_Score', 'AUROC'])\n",
    "labels = np.array(labs).astype(int)\n",
    "raw_preds = np.array(outs)\n",
    "for i in range(14):\n",
    "    feat_name = xrv.datasets.default_pathologies[i]\n",
    "    if len(np.unique(labels[:,i])) > 1:\n",
    "        preds = (raw_preds[:,i] > 0.5) * 1\n",
    "        ConfusionMatrixDisplay.from_predictions(labels[:,i], preds, ax=ax[i][0])\n",
    "        RocCurveDisplay.from_predictions(labels[:,i], raw_preds[:,i], ax=ax[i][1])\n",
    "        acc = accuracy_score(labels[:,i], preds)\n",
    "        precision = precision_score(labels[:,i], preds)\n",
    "        recall = recall_score(labels[:,i], preds)\n",
    "        f1 = f1_score(labels[:,i], preds)\n",
    "        avg_prec = average_precision_score(labels[:,i], preds)\n",
    "        auroc = roc_auc_score(labels[:,i], raw_preds[:,i])\n",
    "        metrics_df = pd.concat([metrics_df, pd.DataFrame(data=[[feat_name, acc, precision, avg_prec, recall, f1, auroc]], columns=metrics_df.columns)])\n",
    "        ax[i][0].set_ylabel(f'{feat_name} -- True label')\n",
    "    else:\n",
    "        only_one_class_obs.append(feat_name)\n",
    "\n",
    "metrics_df = metrics_df.set_index('Feature')\n",
    "plt.tight_layout()"
   ]
  },
  {
   "cell_type": "code",
   "execution_count": null,
   "metadata": {
    "colab": {
     "base_uri": "https://localhost:8080/",
     "height": 520
    },
    "id": "zTuRw80jFvLC",
    "outputId": "c580b692-dea5-4645-b96a-c100faa56aff"
   },
   "outputs": [],
   "source": [
    "if only_one_class_obs:\n",
    "    print(\"Only saw one class for the following features:\")\n",
    "    for feature in only_one_class_obs:\n",
    "    print(feature)\n",
    "metrics_df"
   ]
  },
  {
   "cell_type": "code",
   "execution_count": null,
   "metadata": {
    "id": "l_Bmioxi7F0E"
   },
   "outputs": [],
   "source": []
  }
 ],
 "metadata": {
  "colab": {
   "collapsed_sections": [],
   "provenance": []
  },
  "kernelspec": {
   "display_name": "Python 3 (ipykernel)",
   "language": "python",
   "name": "python3"
  },
  "language_info": {
   "codemirror_mode": {
    "name": "ipython",
    "version": 3
   },
   "file_extension": ".py",
   "mimetype": "text/x-python",
   "name": "python",
   "nbconvert_exporter": "python",
   "pygments_lexer": "ipython3",
   "version": "3.9.0"
  }
 },
 "nbformat": 4,
 "nbformat_minor": 1
}
